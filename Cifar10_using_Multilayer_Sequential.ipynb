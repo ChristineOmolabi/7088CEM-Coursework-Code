{
  "nbformat": 4,
  "nbformat_minor": 0,
  "metadata": {
    "colab": {
      "provenance": []
    },
    "kernelspec": {
      "name": "python3",
      "display_name": "Python 3"
    },
    "language_info": {
      "name": "python"
    }
  },
  "cells": [
    {
      "cell_type": "code",
      "execution_count": null,
      "metadata": {
        "id": "UOjzXbbm2MEr"
      },
      "outputs": [],
      "source": [
        "#Building an Image Classifier using the CIFAR10 keras dataset\n",
        "\n",
        "#first import relevant libraries\n",
        "import numpy as np\n",
        "import pandas as pd\n",
        "%matplotlib inline\n",
        "import matplotlib as mpl\n",
        "import matplotlib.pyplot as plt\n",
        "\n",
        "#then we import Tensorflow and keras\n",
        "import tensorflow as tf\n",
        "from tensorflow import keras"
      ]
    },
    {
      "cell_type": "code",
      "source": [
        "cifar10_data = keras.datasets.cifar10 #a 60k image dataset of a variety of vehicles and animals 32x32\n",
        "(X_train_full, y_train_full), (X_test, y_test) = cifar10_data.load_data()\n",
        "assert X_train_full.shape == (50000, 32, 32, 3)\n",
        "assert X_test.shape == (10000, 32, 32, 3)\n",
        "assert y_train_full.shape == (50000, 1)\n",
        "assert y_test.shape == (10000, 1)"
      ],
      "metadata": {
        "id": "WWmJvae82rvj",
        "colab": {
          "base_uri": "https://localhost:8080/"
        },
        "outputId": "e68e0bdf-126f-4157-da90-c57a4c7b4975"
      },
      "execution_count": null,
      "outputs": [
        {
          "output_type": "stream",
          "name": "stdout",
          "text": [
            "Downloading data from https://www.cs.toronto.edu/~kriz/cifar-10-python.tar.gz\n",
            "170498071/170498071 [==============================] - 3s 0us/step\n"
          ]
        }
      ]
    },
    {
      "cell_type": "code",
      "source": [
        "#to show dataset\n",
        "plt.imshow(X_train_full[4])"
      ],
      "metadata": {
        "colab": {
          "base_uri": "https://localhost:8080/",
          "height": 283
        },
        "id": "iMeMJCjm3Ot4",
        "outputId": "506c6d38-ae78-41d3-8e6a-45209760a9a1"
      },
      "execution_count": null,
      "outputs": [
        {
          "output_type": "execute_result",
          "data": {
            "text/plain": [
              "<matplotlib.image.AxesImage at 0x7fe37ba77580>"
            ]
          },
          "metadata": {},
          "execution_count": 4
        },
        {
          "output_type": "display_data",
          "data": {
            "text/plain": [
              "<Figure size 432x288 with 1 Axes>"
            ],
            "image/png": "[encoded data removed]"
          },
          "metadata": {
            "needs_background": "light"
          }
        }
      ]
    },
    {
      "cell_type": "code",
      "source": [
        "#to view the category of what we called above\n",
        "data_categories = [\"Airplane\", \"Automobile\", \"Bird\", \"Cat\", \"Deer\",\n",
        "                   \"Dog\", \"frog\", \"Horse\", \"Ship\", \"Truck\"]\n",
        "np.take(data_categories, y_train_full[4])"
      ],
      "metadata": {
        "id": "3Gi9mYyV3isZ",
        "colab": {
          "base_uri": "https://localhost:8080/"
        },
        "outputId": "fb6ba4ca-2d97-4e6c-b81d-187994752dc2"
      },
      "execution_count": null,
      "outputs": [
        {
          "output_type": "execute_result",
          "data": {
            "text/plain": [
              "array(['Automobile'], dtype='<U10')"
            ]
          },
          "metadata": {},
          "execution_count": 6
        }
      ]
    },
    {
      "cell_type": "code",
      "source": [
        "#this tells us how much data we're working with\n",
        "X_test.shape"
      ],
      "metadata": {
        "id": "22Ghc8J364FZ",
        "colab": {
          "base_uri": "https://localhost:8080/"
        },
        "outputId": "90087961-c54f-447b-de8d-826ba0f1ca7f"
      },
      "execution_count": null,
      "outputs": [
        {
          "output_type": "execute_result",
          "data": {
            "text/plain": [
              "(10000, 32, 32, 3)"
            ]
          },
          "metadata": {},
          "execution_count": 7
        }
      ]
    },
    {
      "cell_type": "code",
      "source": [
        "#to normalize the data\n",
        "Xt_norm = X_train_full.astype('float32')\n",
        "X_test_norm = X_test.astype('float32')\n",
        "\n",
        "Xt_norm = Xt_norm/255.0  #because we want it to be a float\n",
        "X_test_norm = X_test_norm/255.0"
      ],
      "metadata": {
        "id": "gAKhKh_87pRL"
      },
      "execution_count": null,
      "outputs": []
    },
    {
      "cell_type": "code",
      "source": [
        "#manually splitting the training, validation and testing data\n",
        "X_val, X_train = Xt_norm[:5000], Xt_norm[5000:]\n",
        "y_val, y_train = y_train_full[:5000], y_train_full[5000:]\n",
        "X_test = X_test_norm\n",
        "\n",
        "#X_train to train the model\n",
        "#X_val to fine tune the model\n",
        "#X_test to check if the model works properly after training"
      ],
      "metadata": {
        "id": "cfVICTLe-TIp"
      },
      "execution_count": null,
      "outputs": []
    },
    {
      "cell_type": "code",
      "source": [
        "#first set random seed so results stay the same\n",
        "np.random.seed(42)\n",
        "tf.random.set_seed(42)"
      ],
      "metadata": {
        "id": "gqYbMvCs_9Ax"
      },
      "execution_count": null,
      "outputs": []
    },
    {
      "cell_type": "code",
      "source": [
        "#model creation using sequential API of keras\n",
        "#triple layer sequential model\n",
        "model_1 = keras.models.Sequential()\n",
        "model_1.add(keras.layers.Flatten(input_shape=[32, 32, 3]))\n",
        "model_1.add(keras.layers.Dense(300, activation=\"relu\"))\n",
        "model_1.add(keras.layers.Dense(100, activation=\"relu\"))\n",
        "model_1.add(keras.layers.Dense(50, activation=\"relu\"))\n",
        "model_1.add(keras.layers.Dense(10, activation=\"Softmax\"))"
      ],
      "metadata": {
        "id": "kXOOg5N4Al9W"
      },
      "execution_count": null,
      "outputs": []
    },
    {
      "cell_type": "code",
      "source": [
        "#to setup the learning Process\n",
        "model_1.compile(loss=\"sparse_categorical_crossentropy\",\n",
        "                optimizer=\"sgd\",\n",
        "                metrics=[\"accuracy\"])"
      ],
      "metadata": {
        "id": "STfi5wZIM6YL"
      },
      "execution_count": null,
      "outputs": []
    },
    {
      "cell_type": "code",
      "source": [
        "model_1hist = model_1.fit(X_train, y_train, epochs=80,\n",
        "                          validation_data=(X_val, y_val))"
      ],
      "metadata": {
        "colab": {
          "base_uri": "https://localhost:8080/"
        },
        "id": "w5MRGII2MLRt",
        "outputId": "3f079c3c-6734-4acb-e9aa-4f40acaa035f"
      },
      "execution_count": null,
      "outputs": [
        {
          "output_type": "stream",
          "name": "stdout",
          "text": [
            "Epoch 1/80\n",
            "1407/1407 [==============================] - 13s 9ms/step - loss: 1.9221 - accuracy: 0.3045 - val_loss: 1.9363 - val_accuracy: 0.2976\n",
            "Epoch 2/80\n",
            "1407/1407 [==============================] - 12s 9ms/step - loss: 1.7272 - accuracy: 0.3837 - val_loss: 1.7614 - val_accuracy: 0.3506\n",
            "Epoch 3/80\n",
            "1407/1407 [==============================] - 11s 8ms/step - loss: 1.6411 - accuracy: 0.4141 - val_loss: 1.9002 - val_accuracy: 0.3154\n",
            "Epoch 4/80\n",
            "1407/1407 [==============================] - 11s 8ms/step - loss: 1.5826 - accuracy: 0.4363 - val_loss: 1.9664 - val_accuracy: 0.3298\n",
            "Epoch 5/80\n",
            "1407/1407 [==============================] - 12s 9ms/step - loss: 1.5394 - accuracy: 0.4542 - val_loss: 1.5987 - val_accuracy: 0.4196\n",
            "Epoch 6/80\n",
            "1407/1407 [==============================] - 14s 10ms/step - loss: 1.4984 - accuracy: 0.4709 - val_loss: 1.5493 - val_accuracy: 0.4436\n",
            "Epoch 7/80\n",
            "1407/1407 [==============================] - 16s 11ms/step - loss: 1.4649 - accuracy: 0.4810 - val_loss: 1.5907 - val_accuracy: 0.4104\n",
            "Epoch 8/80\n",
            "1407/1407 [==============================] - 16s 11ms/step - loss: 1.4382 - accuracy: 0.4909 - val_loss: 1.4910 - val_accuracy: 0.4708\n",
            "Epoch 9/80\n",
            "1407/1407 [==============================] - 12s 8ms/step - loss: 1.4096 - accuracy: 0.4977 - val_loss: 1.4868 - val_accuracy: 0.4710\n",
            "Epoch 10/80\n",
            "1407/1407 [==============================] - 12s 8ms/step - loss: 1.3840 - accuracy: 0.5100 - val_loss: 1.7733 - val_accuracy: 0.3710\n",
            "Epoch 11/80\n",
            "1407/1407 [==============================] - 12s 8ms/step - loss: 1.3605 - accuracy: 0.5172 - val_loss: 1.6207 - val_accuracy: 0.4300\n",
            "Epoch 12/80\n",
            "1407/1407 [==============================] - 11s 8ms/step - loss: 1.3413 - accuracy: 0.5245 - val_loss: 1.5040 - val_accuracy: 0.4672\n",
            "Epoch 13/80\n",
            "1407/1407 [==============================] - 12s 8ms/step - loss: 1.3240 - accuracy: 0.5295 - val_loss: 1.5863 - val_accuracy: 0.4478\n",
            "Epoch 14/80\n",
            "1407/1407 [==============================] - 12s 9ms/step - loss: 1.2993 - accuracy: 0.5386 - val_loss: 1.5651 - val_accuracy: 0.4534\n",
            "Epoch 15/80\n",
            "1407/1407 [==============================] - 12s 9ms/step - loss: 1.2833 - accuracy: 0.5456 - val_loss: 1.4675 - val_accuracy: 0.4834\n",
            "Epoch 16/80\n",
            "1407/1407 [==============================] - 12s 8ms/step - loss: 1.2660 - accuracy: 0.5532 - val_loss: 1.5072 - val_accuracy: 0.4832\n",
            "Epoch 17/80\n",
            "1407/1407 [==============================] - 12s 9ms/step - loss: 1.2484 - accuracy: 0.5561 - val_loss: 1.5464 - val_accuracy: 0.4508\n",
            "Epoch 18/80\n",
            "1407/1407 [==============================] - 12s 9ms/step - loss: 1.2323 - accuracy: 0.5611 - val_loss: 1.4710 - val_accuracy: 0.4892\n",
            "Epoch 19/80\n",
            "1407/1407 [==============================] - 12s 9ms/step - loss: 1.2120 - accuracy: 0.5700 - val_loss: 1.4138 - val_accuracy: 0.5114\n",
            "Epoch 20/80\n",
            "1407/1407 [==============================] - 12s 8ms/step - loss: 1.1968 - accuracy: 0.5747 - val_loss: 1.4723 - val_accuracy: 0.4888\n",
            "Epoch 21/80\n",
            "1407/1407 [==============================] - 12s 8ms/step - loss: 1.1825 - accuracy: 0.5786 - val_loss: 1.5345 - val_accuracy: 0.4722\n",
            "Epoch 22/80\n",
            "1407/1407 [==============================] - 12s 8ms/step - loss: 1.1687 - accuracy: 0.5863 - val_loss: 1.5672 - val_accuracy: 0.4630\n",
            "Epoch 23/80\n",
            "1407/1407 [==============================] - 11s 8ms/step - loss: 1.1534 - accuracy: 0.5905 - val_loss: 1.4577 - val_accuracy: 0.4878\n",
            "Epoch 24/80\n",
            "1407/1407 [==============================] - 12s 9ms/step - loss: 1.1384 - accuracy: 0.5964 - val_loss: 1.5574 - val_accuracy: 0.4580\n",
            "Epoch 25/80\n",
            "1407/1407 [==============================] - 11s 8ms/step - loss: 1.1235 - accuracy: 0.6000 - val_loss: 1.3899 - val_accuracy: 0.5142\n",
            "Epoch 26/80\n",
            "1407/1407 [==============================] - 12s 8ms/step - loss: 1.1075 - accuracy: 0.6080 - val_loss: 1.4656 - val_accuracy: 0.4998\n",
            "Epoch 27/80\n",
            "1407/1407 [==============================] - 12s 8ms/step - loss: 1.0955 - accuracy: 0.6138 - val_loss: 1.3924 - val_accuracy: 0.5176\n",
            "Epoch 28/80\n",
            "1407/1407 [==============================] - 12s 8ms/step - loss: 1.0771 - accuracy: 0.6173 - val_loss: 1.5604 - val_accuracy: 0.4656\n",
            "Epoch 29/80\n",
            "1407/1407 [==============================] - 12s 9ms/step - loss: 1.0681 - accuracy: 0.6201 - val_loss: 1.3933 - val_accuracy: 0.5180\n",
            "Epoch 30/80\n",
            "1407/1407 [==============================] - 12s 9ms/step - loss: 1.0495 - accuracy: 0.6284 - val_loss: 3.1156 - val_accuracy: 0.2740\n",
            "Epoch 31/80\n",
            "1407/1407 [==============================] - 12s 9ms/step - loss: 1.0383 - accuracy: 0.6320 - val_loss: 1.5671 - val_accuracy: 0.4770\n",
            "Epoch 32/80\n",
            "1407/1407 [==============================] - 12s 9ms/step - loss: 1.0227 - accuracy: 0.6398 - val_loss: 1.4920 - val_accuracy: 0.4954\n",
            "Epoch 33/80\n",
            "1407/1407 [==============================] - 12s 9ms/step - loss: 1.0108 - accuracy: 0.6432 - val_loss: 1.4868 - val_accuracy: 0.5062\n",
            "Epoch 34/80\n",
            "1407/1407 [==============================] - 12s 9ms/step - loss: 0.9979 - accuracy: 0.6451 - val_loss: 1.4868 - val_accuracy: 0.5068\n",
            "Epoch 35/80\n",
            "1407/1407 [==============================] - 12s 9ms/step - loss: 0.9822 - accuracy: 0.6537 - val_loss: 1.6885 - val_accuracy: 0.4838\n",
            "Epoch 36/80\n",
            "1407/1407 [==============================] - 12s 9ms/step - loss: 0.9728 - accuracy: 0.6558 - val_loss: 1.3815 - val_accuracy: 0.5386\n",
            "Epoch 37/80\n",
            "1407/1407 [==============================] - 12s 9ms/step - loss: 0.9563 - accuracy: 0.6636 - val_loss: 1.4290 - val_accuracy: 0.5188\n",
            "Epoch 38/80\n",
            "1407/1407 [==============================] - 12s 8ms/step - loss: 0.9442 - accuracy: 0.6637 - val_loss: 1.6999 - val_accuracy: 0.4758\n",
            "Epoch 39/80\n",
            "1407/1407 [==============================] - 12s 9ms/step - loss: 0.9326 - accuracy: 0.6687 - val_loss: 1.5067 - val_accuracy: 0.5212\n",
            "Epoch 40/80\n",
            "1407/1407 [==============================] - 11s 8ms/step - loss: 0.9199 - accuracy: 0.6744 - val_loss: 1.4625 - val_accuracy: 0.5160\n",
            "Epoch 41/80\n",
            "1407/1407 [==============================] - 12s 8ms/step - loss: 0.9067 - accuracy: 0.6768 - val_loss: 1.5185 - val_accuracy: 0.5226\n",
            "Epoch 42/80\n",
            "1407/1407 [==============================] - 12s 8ms/step - loss: 0.8978 - accuracy: 0.6815 - val_loss: 1.5480 - val_accuracy: 0.5042\n",
            "Epoch 43/80\n",
            "1407/1407 [==============================] - 12s 8ms/step - loss: 0.8862 - accuracy: 0.6832 - val_loss: 1.7751 - val_accuracy: 0.4588\n",
            "Epoch 44/80\n",
            "1407/1407 [==============================] - 12s 9ms/step - loss: 0.8708 - accuracy: 0.6908 - val_loss: 1.5386 - val_accuracy: 0.5048\n",
            "Epoch 45/80\n",
            "1407/1407 [==============================] - 12s 9ms/step - loss: 0.8587 - accuracy: 0.6924 - val_loss: 2.5823 - val_accuracy: 0.3608\n",
            "Epoch 46/80\n",
            "1407/1407 [==============================] - 12s 9ms/step - loss: 0.8512 - accuracy: 0.6982 - val_loss: 1.5243 - val_accuracy: 0.5188\n",
            "Epoch 47/80\n",
            "1407/1407 [==============================] - 12s 9ms/step - loss: 0.8331 - accuracy: 0.7024 - val_loss: 1.6876 - val_accuracy: 0.4962\n",
            "Epoch 48/80\n",
            "1407/1407 [==============================] - 12s 9ms/step - loss: 0.8278 - accuracy: 0.7051 - val_loss: 1.6328 - val_accuracy: 0.4940\n",
            "Epoch 49/80\n",
            "1407/1407 [==============================] - 12s 9ms/step - loss: 0.8113 - accuracy: 0.7120 - val_loss: 1.7295 - val_accuracy: 0.4690\n",
            "Epoch 50/80\n",
            "1407/1407 [==============================] - 12s 9ms/step - loss: 0.8002 - accuracy: 0.7148 - val_loss: 1.7188 - val_accuracy: 0.4956\n",
            "Epoch 51/80\n",
            "1407/1407 [==============================] - 12s 9ms/step - loss: 0.7945 - accuracy: 0.7175 - val_loss: 2.5103 - val_accuracy: 0.3780\n",
            "Epoch 52/80\n",
            "1407/1407 [==============================] - 12s 9ms/step - loss: 0.7798 - accuracy: 0.7234 - val_loss: 1.9334 - val_accuracy: 0.4728\n",
            "Epoch 53/80\n",
            "1407/1407 [==============================] - 13s 9ms/step - loss: 0.7691 - accuracy: 0.7257 - val_loss: 1.7298 - val_accuracy: 0.4782\n",
            "Epoch 54/80\n",
            "1407/1407 [==============================] - 13s 9ms/step - loss: 0.7627 - accuracy: 0.7284 - val_loss: 1.7538 - val_accuracy: 0.4848\n",
            "Epoch 55/80\n",
            "1407/1407 [==============================] - 13s 9ms/step - loss: 0.7497 - accuracy: 0.7320 - val_loss: 1.9428 - val_accuracy: 0.4654\n",
            "Epoch 56/80\n",
            "1407/1407 [==============================] - 12s 9ms/step - loss: 0.7361 - accuracy: 0.7386 - val_loss: 1.7344 - val_accuracy: 0.5060\n",
            "Epoch 57/80\n",
            "1407/1407 [==============================] - 12s 9ms/step - loss: 0.7230 - accuracy: 0.7419 - val_loss: 1.6068 - val_accuracy: 0.5288\n",
            "Epoch 58/80\n",
            "1407/1407 [==============================] - 11s 8ms/step - loss: 0.7143 - accuracy: 0.7445 - val_loss: 1.7094 - val_accuracy: 0.5086\n",
            "Epoch 59/80\n",
            "1407/1407 [==============================] - 12s 8ms/step - loss: 0.7044 - accuracy: 0.7483 - val_loss: 1.7345 - val_accuracy: 0.4994\n",
            "Epoch 60/80\n",
            "1407/1407 [==============================] - 12s 9ms/step - loss: 0.6971 - accuracy: 0.7497 - val_loss: 1.8339 - val_accuracy: 0.4906\n",
            "Epoch 61/80\n",
            "1407/1407 [==============================] - 13s 9ms/step - loss: 0.6836 - accuracy: 0.7555 - val_loss: 1.8976 - val_accuracy: 0.4692\n",
            "Epoch 62/80\n",
            "1407/1407 [==============================] - 13s 9ms/step - loss: 0.6801 - accuracy: 0.7571 - val_loss: 1.6450 - val_accuracy: 0.5120\n",
            "Epoch 63/80\n",
            "1407/1407 [==============================] - 12s 9ms/step - loss: 0.6661 - accuracy: 0.7629 - val_loss: 1.8243 - val_accuracy: 0.4972\n",
            "Epoch 64/80\n",
            "1407/1407 [==============================] - 12s 9ms/step - loss: 0.6536 - accuracy: 0.7668 - val_loss: 1.8679 - val_accuracy: 0.4918\n",
            "Epoch 65/80\n",
            "1407/1407 [==============================] - 12s 9ms/step - loss: 0.6458 - accuracy: 0.7696 - val_loss: 1.7963 - val_accuracy: 0.5114\n",
            "Epoch 66/80\n",
            "1407/1407 [==============================] - 13s 9ms/step - loss: 0.6344 - accuracy: 0.7739 - val_loss: 1.7273 - val_accuracy: 0.5272\n",
            "Epoch 67/80\n",
            "1407/1407 [==============================] - 13s 9ms/step - loss: 0.6280 - accuracy: 0.7760 - val_loss: 1.7463 - val_accuracy: 0.5064\n",
            "Epoch 68/80\n",
            "1407/1407 [==============================] - 13s 9ms/step - loss: 0.6160 - accuracy: 0.7804 - val_loss: 1.8710 - val_accuracy: 0.4906\n",
            "Epoch 69/80\n",
            "1407/1407 [==============================] - 13s 9ms/step - loss: 0.6112 - accuracy: 0.7820 - val_loss: 1.8510 - val_accuracy: 0.5092\n",
            "Epoch 70/80\n",
            "1407/1407 [==============================] - 13s 9ms/step - loss: 0.5956 - accuracy: 0.7844 - val_loss: 3.5606 - val_accuracy: 0.3524\n",
            "Epoch 71/80\n",
            "1407/1407 [==============================] - 13s 9ms/step - loss: 0.5979 - accuracy: 0.7883 - val_loss: 2.4562 - val_accuracy: 0.4464\n",
            "Epoch 72/80\n",
            "1407/1407 [==============================] - 13s 9ms/step - loss: 0.5831 - accuracy: 0.7934 - val_loss: 1.8533 - val_accuracy: 0.5104\n",
            "Epoch 73/80\n",
            "1407/1407 [==============================] - 13s 9ms/step - loss: 0.5749 - accuracy: 0.7933 - val_loss: 1.8963 - val_accuracy: 0.5092\n",
            "Epoch 74/80\n",
            "1407/1407 [==============================] - 13s 9ms/step - loss: 0.5647 - accuracy: 0.7961 - val_loss: 1.8792 - val_accuracy: 0.5098\n",
            "Epoch 75/80\n",
            "1407/1407 [==============================] - 13s 9ms/step - loss: 0.5595 - accuracy: 0.8013 - val_loss: 1.9939 - val_accuracy: 0.5052\n",
            "Epoch 76/80\n",
            "1407/1407 [==============================] - 13s 9ms/step - loss: 0.5497 - accuracy: 0.8044 - val_loss: 2.2731 - val_accuracy: 0.4814\n",
            "Epoch 77/80\n",
            "1407/1407 [==============================] - 13s 9ms/step - loss: 0.5431 - accuracy: 0.8056 - val_loss: 1.9326 - val_accuracy: 0.5228\n",
            "Epoch 78/80\n",
            "1407/1407 [==============================] - 13s 9ms/step - loss: 0.5267 - accuracy: 0.8143 - val_loss: 2.0157 - val_accuracy: 0.4998\n",
            "Epoch 79/80\n",
            "1407/1407 [==============================] - 13s 9ms/step - loss: 0.5298 - accuracy: 0.8113 - val_loss: 1.9327 - val_accuracy: 0.5110\n",
            "Epoch 80/80\n",
            "1407/1407 [==============================] - 13s 9ms/step - loss: 0.5095 - accuracy: 0.8167 - val_loss: 2.4326 - val_accuracy: 0.4650\n"
          ]
        }
      ]
    },
    {
      "cell_type": "code",
      "source": [
        "model_1.summary()"
      ],
      "metadata": {
        "colab": {
          "base_uri": "https://localhost:8080/"
        },
        "id": "Xkcj4DLhDlLm",
        "outputId": "ae63b424-1659-4304-da42-ca3f18f26eca"
      },
      "execution_count": null,
      "outputs": [
        {
          "output_type": "stream",
          "name": "stdout",
          "text": [
            "Model: \"sequential\"\n",
            "_________________________________________________________________\n",
            " Layer (type)                Output Shape              Param #   \n",
            "=================================================================\n",
            " flatten (Flatten)           (None, 3072)              0         \n",
            "                                                                 \n",
            " dense (Dense)               (None, 300)               921900    \n",
            "                                                                 \n",
            " dense_1 (Dense)             (None, 100)               30100     \n",
            "                                                                 \n",
            " dense_2 (Dense)             (None, 50)                5050      \n",
            "                                                                 \n",
            " dense_3 (Dense)             (None, 10)                510       \n",
            "                                                                 \n",
            "=================================================================\n",
            "Total params: 957,560\n",
            "Trainable params: 957,560\n",
            "Non-trainable params: 0\n",
            "_________________________________________________________________\n"
          ]
        }
      ]
    },
    {
      "cell_type": "code",
      "source": [
        "import pydot\n",
        "keras.utils.plot_model(model_1)"
      ],
      "metadata": {
        "id": "la_0A9ENEEuc",
        "colab": {
          "base_uri": "https://localhost:8080/",
          "height": 564
        },
        "outputId": "decb4a3f-c5a8-404f-9635-f78419fe72ce"
      },
      "execution_count": null,
      "outputs": [
        {
          "output_type": "execute_result",
          "data": {
            "image/png": "[encoded data removed]",
            "text/plain": [
              "<IPython.core.display.Image object>"
            ]
          },
          "metadata": {},
          "execution_count": 20
        }
      ]
    },
    {
      "cell_type": "code",
      "source": [
        "#also data good for documenting\n",
        "weights, biases = model_1.layers[1].get_weights()\n",
        "weights.shape\n"
      ],
      "metadata": {
        "id": "dfszs4phEikT",
        "colab": {
          "base_uri": "https://localhost:8080/"
        },
        "outputId": "b6653c19-3289-4ed3-994f-429781c82732"
      },
      "execution_count": null,
      "outputs": [
        {
          "output_type": "execute_result",
          "data": {
            "text/plain": [
              "(3072, 300)"
            ]
          },
          "metadata": {},
          "execution_count": 33
        }
      ]
    },
    {
      "cell_type": "code",
      "source": [
        "biases.shape"
      ],
      "metadata": {
        "colab": {
          "base_uri": "https://localhost:8080/"
        },
        "id": "40MRokYeTF1M",
        "outputId": "242cb8d4-0ebf-408d-b779-cc82280f8970"
      },
      "execution_count": null,
      "outputs": [
        {
          "output_type": "execute_result",
          "data": {
            "text/plain": [
              "(300,)"
            ]
          },
          "metadata": {},
          "execution_count": 32
        }
      ]
    },
    {
      "cell_type": "code",
      "source": [
        "model_1hist.params"
      ],
      "metadata": {
        "colab": {
          "base_uri": "https://localhost:8080/"
        },
        "id": "0wGUWyJCc_dS",
        "outputId": "90a45907-33c7-4894-c71c-295a28b88196"
      },
      "execution_count": null,
      "outputs": [
        {
          "output_type": "execute_result",
          "data": {
            "text/plain": [
              "{'verbose': 1, 'epochs': 80, 'steps': 1407}"
            ]
          },
          "metadata": {},
          "execution_count": 22
        }
      ]
    },
    {
      "cell_type": "code",
      "source": [
        "model_1hist.history"
      ],
      "metadata": {
        "colab": {
          "base_uri": "https://localhost:8080/"
        },
        "id": "CSFTIAS7dbo_",
        "outputId": "02163fe4-910e-4b14-ff47-f35fc421e6ec"
      },
      "execution_count": null,
      "outputs": [
        {
          "output_type": "execute_result",
          "data": {
            "text/plain": [
              "{'loss': [1.9220919609069824,\n",
              "  1.7271798849105835,\n",
              "  1.6411184072494507,\n",
              "  1.5825544595718384,\n",
              "  1.5394318103790283,\n",
              "  1.4984498023986816,\n",
              "  1.4649358987808228,\n",
              "  1.438167929649353,\n",
              "  1.409578561782837,\n",
              "  1.3840254545211792,\n",
              "  1.3605015277862549,\n",
              "  1.341328501701355,\n",
              "  1.3239649534225464,\n",
              "  1.299296259880066,\n",
              "  1.2832914590835571,\n",
              "  1.2660422325134277,\n",
              "  1.2484378814697266,\n",
              "  1.232344150543213,\n",
              "  1.211958646774292,\n",
              "  1.1968073844909668,\n",
              "  1.1825320720672607,\n",
              "  1.1686912775039673,\n",
              "  1.1534258127212524,\n",
              "  1.1384018659591675,\n",
              "  1.1235357522964478,\n",
              "  1.1074953079223633,\n",
              "  1.0954582691192627,\n",
              "  1.0771456956863403,\n",
              "  1.0680696964263916,\n",
              "  1.0494500398635864,\n",
              "  1.0383003950119019,\n",
              "  1.0227397680282593,\n",
              "  1.0107665061950684,\n",
              "  0.9979045987129211,\n",
              "  0.982151985168457,\n",
              "  0.9727935791015625,\n",
              "  0.9563010334968567,\n",
              "  0.9441695213317871,\n",
              "  0.9325966835021973,\n",
              "  0.9199015498161316,\n",
              "  0.9066930413246155,\n",
              "  0.8977562785148621,\n",
              "  0.8861827850341797,\n",
              "  0.870785653591156,\n",
              "  0.8587163090705872,\n",
              "  0.8511927723884583,\n",
              "  0.8331257700920105,\n",
              "  0.8278345465660095,\n",
              "  0.8113484978675842,\n",
              "  0.8002415895462036,\n",
              "  0.7945232391357422,\n",
              "  0.7797731161117554,\n",
              "  0.7691346406936646,\n",
              "  0.7626723051071167,\n",
              "  0.7496829032897949,\n",
              "  0.7361099720001221,\n",
              "  0.7230187654495239,\n",
              "  0.7143453359603882,\n",
              "  0.7043977379798889,\n",
              "  0.6970506310462952,\n",
              "  0.6835504770278931,\n",
              "  0.6801349520683289,\n",
              "  0.6660631895065308,\n",
              "  0.6536205410957336,\n",
              "  0.645781397819519,\n",
              "  0.6344023942947388,\n",
              "  0.6280175447463989,\n",
              "  0.6160448789596558,\n",
              "  0.6112384796142578,\n",
              "  0.5955941677093506,\n",
              "  0.5979101061820984,\n",
              "  0.5831066966056824,\n",
              "  0.5749421715736389,\n",
              "  0.5647293925285339,\n",
              "  0.5594663619995117,\n",
              "  0.5497111678123474,\n",
              "  0.5430659055709839,\n",
              "  0.5267184972763062,\n",
              "  0.5298051834106445,\n",
              "  0.5094634890556335],\n",
              " 'accuracy': [0.3044666647911072,\n",
              "  0.38368889689445496,\n",
              "  0.4140888750553131,\n",
              "  0.4363333284854889,\n",
              "  0.45419999957084656,\n",
              "  0.47093334794044495,\n",
              "  0.48100000619888306,\n",
              "  0.49086666107177734,\n",
              "  0.4976666569709778,\n",
              "  0.5100444555282593,\n",
              "  0.5172444581985474,\n",
              "  0.5244888663291931,\n",
              "  0.5294666886329651,\n",
              "  0.5385555624961853,\n",
              "  0.5455555319786072,\n",
              "  0.5531777739524841,\n",
              "  0.5560666918754578,\n",
              "  0.5610888600349426,\n",
              "  0.5699999928474426,\n",
              "  0.5746666789054871,\n",
              "  0.5785999894142151,\n",
              "  0.5862666964530945,\n",
              "  0.5905333161354065,\n",
              "  0.5964221954345703,\n",
              "  0.5999777913093567,\n",
              "  0.6079999804496765,\n",
              "  0.6138222217559814,\n",
              "  0.6172666549682617,\n",
              "  0.6201111078262329,\n",
              "  0.6283777952194214,\n",
              "  0.6319555640220642,\n",
              "  0.6397777795791626,\n",
              "  0.6431999802589417,\n",
              "  0.645111083984375,\n",
              "  0.6537333130836487,\n",
              "  0.6558444499969482,\n",
              "  0.6635555624961853,\n",
              "  0.6636666655540466,\n",
              "  0.6687333583831787,\n",
              "  0.6743555665016174,\n",
              "  0.6768444180488586,\n",
              "  0.6814888715744019,\n",
              "  0.6831555366516113,\n",
              "  0.6907777786254883,\n",
              "  0.6923778057098389,\n",
              "  0.6982444524765015,\n",
              "  0.7024000287055969,\n",
              "  0.705133318901062,\n",
              "  0.7120222449302673,\n",
              "  0.7147555351257324,\n",
              "  0.7174666523933411,\n",
              "  0.7233999967575073,\n",
              "  0.7257111072540283,\n",
              "  0.7283999919891357,\n",
              "  0.7319777607917786,\n",
              "  0.7386000156402588,\n",
              "  0.7419333457946777,\n",
              "  0.7444666624069214,\n",
              "  0.7482888698577881,\n",
              "  0.749666690826416,\n",
              "  0.7555333375930786,\n",
              "  0.7571333050727844,\n",
              "  0.7629333138465881,\n",
              "  0.7668222188949585,\n",
              "  0.7695778012275696,\n",
              "  0.7739111185073853,\n",
              "  0.7760000228881836,\n",
              "  0.7804222106933594,\n",
              "  0.7819555401802063,\n",
              "  0.7843777537345886,\n",
              "  0.788266658782959,\n",
              "  0.7934444546699524,\n",
              "  0.7933333516120911,\n",
              "  0.7961333394050598,\n",
              "  0.8013111352920532,\n",
              "  0.8043777942657471,\n",
              "  0.8056444525718689,\n",
              "  0.8143110871315002,\n",
              "  0.8113111257553101,\n",
              "  0.8166888952255249],\n",
              " 'val_loss': [1.9362666606903076,\n",
              "  1.7613718509674072,\n",
              "  1.900193691253662,\n",
              "  1.966418981552124,\n",
              "  1.5987248420715332,\n",
              "  1.549256682395935,\n",
              "  1.590733289718628,\n",
              "  1.4910475015640259,\n",
              "  1.4867931604385376,\n",
              "  1.7732588052749634,\n",
              "  1.6207094192504883,\n",
              "  1.5039583444595337,\n",
              "  1.5863022804260254,\n",
              "  1.5650933980941772,\n",
              "  1.4675135612487793,\n",
              "  1.5071802139282227,\n",
              "  1.5464438199996948,\n",
              "  1.4710197448730469,\n",
              "  1.4138004779815674,\n",
              "  1.472342610359192,\n",
              "  1.5344656705856323,\n",
              "  1.5671523809432983,\n",
              "  1.45771062374115,\n",
              "  1.5573571920394897,\n",
              "  1.3899391889572144,\n",
              "  1.4655871391296387,\n",
              "  1.3923816680908203,\n",
              "  1.560423493385315,\n",
              "  1.3933035135269165,\n",
              "  3.1156394481658936,\n",
              "  1.5670833587646484,\n",
              "  1.4919908046722412,\n",
              "  1.48677396774292,\n",
              "  1.486782193183899,\n",
              "  1.6885260343551636,\n",
              "  1.381511926651001,\n",
              "  1.4289531707763672,\n",
              "  1.6999330520629883,\n",
              "  1.5066578388214111,\n",
              "  1.4624879360198975,\n",
              "  1.5185097455978394,\n",
              "  1.5480097532272339,\n",
              "  1.7751002311706543,\n",
              "  1.538575530052185,\n",
              "  2.5822978019714355,\n",
              "  1.5242879390716553,\n",
              "  1.6875544786453247,\n",
              "  1.6328157186508179,\n",
              "  1.7294707298278809,\n",
              "  1.7188270092010498,\n",
              "  2.5102767944335938,\n",
              "  1.933371663093567,\n",
              "  1.729811191558838,\n",
              "  1.7538419961929321,\n",
              "  1.9427703619003296,\n",
              "  1.7343685626983643,\n",
              "  1.6068090200424194,\n",
              "  1.7094216346740723,\n",
              "  1.7344857454299927,\n",
              "  1.8338603973388672,\n",
              "  1.8975541591644287,\n",
              "  1.6450220346450806,\n",
              "  1.8243392705917358,\n",
              "  1.8678526878356934,\n",
              "  1.7962582111358643,\n",
              "  1.7273175716400146,\n",
              "  1.7462714910507202,\n",
              "  1.8710384368896484,\n",
              "  1.8509767055511475,\n",
              "  3.5606496334075928,\n",
              "  2.4561667442321777,\n",
              "  1.853319764137268,\n",
              "  1.896340012550354,\n",
              "  1.8792036771774292,\n",
              "  1.9939123392105103,\n",
              "  2.27307391166687,\n",
              "  1.9325820207595825,\n",
              "  2.0156562328338623,\n",
              "  1.9326624870300293,\n",
              "  2.4326326847076416],\n",
              " 'val_accuracy': [0.29760000109672546,\n",
              "  0.350600004196167,\n",
              "  0.31540000438690186,\n",
              "  0.329800009727478,\n",
              "  0.4196000099182129,\n",
              "  0.44359999895095825,\n",
              "  0.41040000319480896,\n",
              "  0.4708000123500824,\n",
              "  0.47099998593330383,\n",
              "  0.3709999918937683,\n",
              "  0.4300000071525574,\n",
              "  0.46720001101493835,\n",
              "  0.44780001044273376,\n",
              "  0.45339998602867126,\n",
              "  0.48339998722076416,\n",
              "  0.4832000136375427,\n",
              "  0.45080000162124634,\n",
              "  0.48919999599456787,\n",
              "  0.5113999843597412,\n",
              "  0.4887999892234802,\n",
              "  0.4722000062465668,\n",
              "  0.46299999952316284,\n",
              "  0.4878000020980835,\n",
              "  0.4580000042915344,\n",
              "  0.51419997215271,\n",
              "  0.4997999966144562,\n",
              "  0.5175999999046326,\n",
              "  0.46560001373291016,\n",
              "  0.5180000066757202,\n",
              "  0.27399998903274536,\n",
              "  0.47699999809265137,\n",
              "  0.49540001153945923,\n",
              "  0.5062000155448914,\n",
              "  0.5067999958992004,\n",
              "  0.4837999939918518,\n",
              "  0.5386000275611877,\n",
              "  0.5188000202178955,\n",
              "  0.4758000075817108,\n",
              "  0.5212000012397766,\n",
              "  0.515999972820282,\n",
              "  0.522599995136261,\n",
              "  0.5041999816894531,\n",
              "  0.45879998803138733,\n",
              "  0.504800021648407,\n",
              "  0.36079999804496765,\n",
              "  0.5188000202178955,\n",
              "  0.49619999527931213,\n",
              "  0.49399998784065247,\n",
              "  0.4690000116825104,\n",
              "  0.49559998512268066,\n",
              "  0.3779999911785126,\n",
              "  0.47279998660087585,\n",
              "  0.4781999886035919,\n",
              "  0.4848000109195709,\n",
              "  0.46540001034736633,\n",
              "  0.5059999823570251,\n",
              "  0.5288000106811523,\n",
              "  0.5085999965667725,\n",
              "  0.49939998984336853,\n",
              "  0.49059998989105225,\n",
              "  0.4691999852657318,\n",
              "  0.5120000243186951,\n",
              "  0.49720001220703125,\n",
              "  0.4918000102043152,\n",
              "  0.5113999843597412,\n",
              "  0.5271999835968018,\n",
              "  0.5063999891281128,\n",
              "  0.49059998989105225,\n",
              "  0.5091999769210815,\n",
              "  0.352400004863739,\n",
              "  0.446399986743927,\n",
              "  0.5103999972343445,\n",
              "  0.5091999769210815,\n",
              "  0.5098000168800354,\n",
              "  0.5052000284194946,\n",
              "  0.4814000129699707,\n",
              "  0.5228000283241272,\n",
              "  0.4997999966144562,\n",
              "  0.5109999775886536,\n",
              "  0.4650000035762787]}"
            ]
          },
          "metadata": {},
          "execution_count": 23
        }
      ]
    },
    {
      "cell_type": "code",
      "source": [
        "pd.DataFrame(model_1hist.history).plot(figsize=(10, 5))\n",
        "plt.grid(True)\n",
        "plt.gca().set_ylim(0, 5)\n",
        "plt.show()"
      ],
      "metadata": {
        "colab": {
          "base_uri": "https://localhost:8080/",
          "height": 324
        },
        "id": "LQC78ScvdnHb",
        "outputId": "a52e1f37-7964-4bd3-bcdf-38acd75d77f2"
      },
      "execution_count": null,
      "outputs": [
        {
          "output_type": "display_data",
          "data": {
            "text/plain": [
              "<Figure size 720x360 with 1 Axes>"
            ],
            "image/png": "[encoded data removed]"
          },
          "metadata": {
            "needs_background": "light"
          }
        }
      ]
    },
    {
      "cell_type": "code",
      "source": [
        "model_eval = model_1.evaluate(X_test, y_test)\n",
        "print(\"Test loss:\", model_eval[0])\n",
        "print(\"Test accuracy:\", model_eval[1])"
      ],
      "metadata": {
        "colab": {
          "base_uri": "https://localhost:8080/"
        },
        "id": "F1gImcv7idE6",
        "outputId": "904e1b6b-be7c-4564-fb8d-aa3d8fd3559e"
      },
      "execution_count": null,
      "outputs": [
        {
          "output_type": "stream",
          "name": "stdout",
          "text": [
            "313/313 [==============================] - 1s 4ms/step - loss: 2.4664 - accuracy: 0.4575\n",
            "Test loss: 2.466402292251587\n",
            "Test accuracy: 0.45750001072883606\n"
          ]
        }
      ]
    },
    {
      "cell_type": "code",
      "source": [
        "x_new = X_test[:8]"
      ],
      "metadata": {
        "id": "kO4Va4TyiutB"
      },
      "execution_count": null,
      "outputs": []
    },
    {
      "cell_type": "code",
      "source": [
        "y_proba = model_1.predict(x_new)\n",
        "y_proba.round(2)"
      ],
      "metadata": {
        "colab": {
          "base_uri": "https://localhost:8080/"
        },
        "id": "I9phxokNjDte",
        "outputId": "ab28f6e3-6014-40a0-bc28-7aba21ab105c"
      },
      "execution_count": null,
      "outputs": [
        {
          "output_type": "stream",
          "name": "stdout",
          "text": [
            "1/1 [==============================] - 0s 112ms/step\n"
          ]
        },
        {
          "output_type": "execute_result",
          "data": {
            "text/plain": [
              "array([[0.  , 0.  , 0.06, 0.75, 0.17, 0.01, 0.  , 0.  , 0.  , 0.  ],\n",
              "       [0.  , 1.  , 0.  , 0.  , 0.  , 0.  , 0.  , 0.  , 0.  , 0.  ],\n",
              "       [0.  , 0.78, 0.  , 0.  , 0.  , 0.  , 0.  , 0.  , 0.  , 0.21],\n",
              "       [0.61, 0.23, 0.04, 0.  , 0.03, 0.  , 0.  , 0.02, 0.07, 0.  ],\n",
              "       [0.  , 0.  , 0.  , 0.  , 0.8 , 0.  , 0.19, 0.  , 0.  , 0.  ],\n",
              "       [0.  , 0.  , 0.01, 0.02, 0.02, 0.01, 0.94, 0.  , 0.  , 0.  ],\n",
              "       [0.  , 1.  , 0.  , 0.  , 0.  , 0.  , 0.  , 0.  , 0.  , 0.  ],\n",
              "       [0.  , 0.  , 0.  , 0.  , 0.  , 0.  , 1.  , 0.  , 0.  , 0.  ]],\n",
              "      dtype=float32)"
            ]
          },
          "metadata": {},
          "execution_count": 29
        }
      ]
    },
    {
      "cell_type": "code",
      "source": [
        "y_pred = np.argmax(model_1.predict(x_new), axis=-1)\n",
        "y_pred"
      ],
      "metadata": {
        "colab": {
          "base_uri": "https://localhost:8080/"
        },
        "id": "0xYP4GCujPCD",
        "outputId": "2e8d45cd-66a2-4f80-cc2c-09a65febb256"
      },
      "execution_count": null,
      "outputs": [
        {
          "output_type": "stream",
          "name": "stdout",
          "text": [
            "1/1 [==============================] - 0s 47ms/step\n"
          ]
        },
        {
          "output_type": "execute_result",
          "data": {
            "text/plain": [
              "array([3, 1, 1, 0, 4, 6, 1, 6])"
            ]
          },
          "metadata": {},
          "execution_count": 30
        }
      ]
    },
    {
      "cell_type": "code",
      "source": [
        "np.array(data_categories)[y_pred]"
      ],
      "metadata": {
        "colab": {
          "base_uri": "https://localhost:8080/"
        },
        "id": "I8xgFry0kClo",
        "outputId": "5cc83cae-2b44-4c00-fd8f-df3da04025c4"
      },
      "execution_count": null,
      "outputs": [
        {
          "output_type": "execute_result",
          "data": {
            "text/plain": [
              "array(['Cat', 'Automobile', 'Automobile', 'Airplane', 'Deer', 'frog',\n",
              "       'Automobile', 'frog'], dtype='<U10')"
            ]
          },
          "metadata": {},
          "execution_count": 31
        }
      ]
    },
    {
      "cell_type": "code",
      "source": [
        "print(plt.imshow(X_test[0]))"
      ],
      "metadata": {
        "colab": {
          "base_uri": "https://localhost:8080/",
          "height": 283
        },
        "id": "g2Q9LU9DkOKs",
        "outputId": "1ffb655e-14a4-4afc-c8fc-256a1dbea2da"
      },
      "execution_count": null,
      "outputs": [
        {
          "output_type": "stream",
          "name": "stdout",
          "text": [
            "AxesImage(54,36;334.8x217.44)\n"
          ]
        },
        {
          "output_type": "display_data",
          "data": {
            "text/plain": [
              "<Figure size 432x288 with 1 Axes>"
            ],
            "image/png": "[encoded data removed]"
          },
          "metadata": {
            "needs_background": "light"
          }
        }
      ]
    }
  ]
}