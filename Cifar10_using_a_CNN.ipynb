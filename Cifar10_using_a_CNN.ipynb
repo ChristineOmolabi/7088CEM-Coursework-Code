{
  "nbformat": 4,
  "nbformat_minor": 0,
  "metadata": {
    "colab": {
      "provenance": []
    },
    "kernelspec": {
      "name": "python3",
      "display_name": "Python 3"
    },
    "language_info": {
      "name": "python"
    }
  },
  "cells": [
    {
      "cell_type": "code",
      "source": [
        "import tensorflow as tf\n",
        "from tensorflow import keras\n",
        "from keras import models\n",
        "from keras import layers\n",
        "from keras.models import Sequential\n",
        "from keras.layers import Dense, Conv2D, Flatten\n",
        "from keras.layers.pooling.max_pooling2d import MaxPool2D\n",
        "from keras.utils import to_categorical\n",
        "from tensorflow.python.ops.init_ops import ConvolutionOrthogonal2D as Conv2D\n",
        "from keras.engine.sequential import Sequential\n",
        "from tensorflow.python.ops.gen_nn_ops import LeakyRelu\n",
        "from keras.backend import conv2d\n",
        "\n",
        "from tensorflow.python.keras.engine.sequential import Sequential\n",
        "\n",
        "from tensorflow.python.keras.layers import Dense, Conv2D, Flatten, Dropout, MaxPooling2D\n",
        "\n",
        "\n",
        "%matplotlib inline\n",
        "import matplotlib as mpl\n",
        "import matplotlib.pyplot as plt\n",
        "import cv2\n",
        "import os\n",
        "import numpy as np\n",
        "import splitfolders\n",
        "import numpy as np\n",
        "import pandas as pd"
      ],
      "metadata": {
        "id": "fzZQDs24Xqto"
      },
      "execution_count": null,
      "outputs": []
    },
    {
      "cell_type": "code",
      "source": [
        "#first we load our chosen dataset\n",
        "cifar10_data = keras.datasets.cifar10 #a 50k image dataset of a variety of vehicles and animals 32x32\n",
        "(X_train_full, y_train_full), (X_test, y_test) = cifar10_data.load_data()"
      ],
      "metadata": {
        "id": "f3YdH_bkeFfG",
        "colab": {
          "base_uri": "https://localhost:8080/"
        },
        "outputId": "1a5f14f0-be01-4c34-a38b-330e3b607be6"
      },
      "execution_count": null,
      "outputs": [
        {
          "output_type": "stream",
          "name": "stdout",
          "text": [
            "Downloading data from https://www.cs.toronto.edu/~kriz/cifar-10-python.tar.gz\n",
            "170498071/170498071 [==============================] - 3s 0us/step\n"
          ]
        }
      ]
    },
    {
      "cell_type": "code",
      "source": [
        "#displays a brief review of the data structure\n",
        "print('Training data: ', X_train_full.shape, y_train_full.shape)\n",
        "print('Testing data: ', X_test.shape, y_test.shape)"
      ],
      "metadata": {
        "colab": {
          "base_uri": "https://localhost:8080/"
        },
        "id": "TouGhgQ-eUMG",
        "outputId": "fe2385e3-8db3-4308-d228-6908c5727781"
      },
      "execution_count": null,
      "outputs": [
        {
          "output_type": "stream",
          "name": "stdout",
          "text": [
            "Training data:  (50000, 32, 32, 3) (50000, 1)\n",
            "Testing data:  (10000, 32, 32, 3) (10000, 1)\n"
          ]
        }
      ]
    },
    {
      "cell_type": "code",
      "source": [
        "#outine the training labels\n",
        "data_cat = np.unique(y_train_full)\n",
        "data_cat = [\"Airplane\", \"Automobile\", \"Bird\", \"Cat\", \"Deer\",\n",
        "                   \"Dog\", \"frog\", \"Horse\", \"Ship\", \"Truck\"]\n",
        "ndata_cat = len(data_cat)\n",
        "print('Total output categories are: ', ndata_cat)\n",
        "print('Categories: ', data_cat)"
      ],
      "metadata": {
        "colab": {
          "base_uri": "https://localhost:8080/"
        },
        "id": "w9gQhpgwe_k7",
        "outputId": "88ee134c-f084-4ec6-ce08-7b40c395531b"
      },
      "execution_count": null,
      "outputs": [
        {
          "output_type": "stream",
          "name": "stdout",
          "text": [
            "Total output categories are:  10\n",
            "Categories:  ['Airplane', 'Automobile', 'Bird', 'Cat', 'Deer', 'Dog', 'frog', 'Horse', 'Ship', 'Truck']\n"
          ]
        }
      ]
    },
    {
      "cell_type": "code",
      "source": [
        "#just to check what kind of image we can see\n",
        "plt.imshow(X_train_full[4])"
      ],
      "metadata": {
        "colab": {
          "base_uri": "https://localhost:8080/",
          "height": 283
        },
        "id": "cHQ2fknlgAA1",
        "outputId": "d35b7cd0-b9f2-4b2a-d431-899a3648ff8c"
      },
      "execution_count": null,
      "outputs": [
        {
          "output_type": "execute_result",
          "data": {
            "text/plain": [
              "<matplotlib.image.AxesImage at 0x7f817b816eb0>"
            ]
          },
          "metadata": {},
          "execution_count": 8
        },
        {
          "output_type": "display_data",
          "data": {
            "text/plain": [
              "<Figure size 432x288 with 1 Axes>"
            ],
            "image/png": "[encoded data removed]"
          },
          "metadata": {
            "needs_background": "light"
          }
        }
      ]
    },
    {
      "cell_type": "code",
      "source": [
        "#linking the image to its category\n",
        "y_train_full[4]\n",
        "np.take(data_cat, y_train_full[4])"
      ],
      "metadata": {
        "colab": {
          "base_uri": "https://localhost:8080/"
        },
        "id": "AxwAJN5Rg3nv",
        "outputId": "79c5149d-166c-4c0f-ea2f-71fcc01e105b"
      },
      "execution_count": null,
      "outputs": [
        {
          "output_type": "execute_result",
          "data": {
            "text/plain": [
              "array(['Automobile'], dtype='<U10')"
            ]
          },
          "metadata": {},
          "execution_count": 9
        }
      ]
    },
    {
      "cell_type": "code",
      "source": [
        "#reshaing the data to ensure it fits properly in the model\n",
        "X_train_full = X_train_full.reshape(50000,32,32,3)\n",
        "X_test = X_test.reshape(10000,32,32,3)\n",
        "X_train_full.shape, X_test.shape"
      ],
      "metadata": {
        "colab": {
          "base_uri": "https://localhost:8080/"
        },
        "id": "KTFhr3cIiceX",
        "outputId": "a172d632-30f0-45ce-c8c9-a9bd71916aff"
      },
      "execution_count": null,
      "outputs": [
        {
          "output_type": "execute_result",
          "data": {
            "text/plain": [
              "((50000, 32, 32, 3), (10000, 32, 32, 3))"
            ]
          },
          "metadata": {},
          "execution_count": 10
        }
      ]
    },
    {
      "cell_type": "code",
      "source": [
        "#to normalize the data\n",
        "Xt_norm = X_train_full.astype('float32')\n",
        "X_test_norm = X_test.astype('float32')\n",
        "\n",
        "Xt_norm = Xt_norm/255.0  #because we want it to be a float\n",
        "X_test_norm = X_test_norm/255.0"
      ],
      "metadata": {
        "id": "6z_OTWQzjVht"
      },
      "execution_count": null,
      "outputs": []
    },
    {
      "cell_type": "code",
      "source": [
        "#change the labels from categorical to one-hot encoding\n",
        "y_train_1hot = to_categorical(y_train_full)\n",
        "y_test_1hot = to_categorical(y_test)\n",
        "\n",
        "print(\"Label diff: \", y_train_full[4])\n",
        "print(\"Label now: \", y_train_1hot[4])"
      ],
      "metadata": {
        "colab": {
          "base_uri": "https://localhost:8080/"
        },
        "id": "FKp-rYKTjgsu",
        "outputId": "8acdad1f-5cde-467c-d8f6-0847c7b6abf1"
      },
      "execution_count": null,
      "outputs": [
        {
          "output_type": "stream",
          "name": "stdout",
          "text": [
            "Label diff:  [1]\n",
            "Label now:  [0. 1. 0. 0. 0. 0. 0. 0. 0. 0.]\n"
          ]
        }
      ]
    },
    {
      "cell_type": "code",
      "source": [
        "#assiging the training and validation data\n",
        "from sklearn.model_selection import train_test_split\n",
        "X_train, X_val, y_train, y_val = train_test_split(Xt_norm, y_train_1hot,\n",
        "                                                  test_size=0.2, random_state=13)\n"
      ],
      "metadata": {
        "id": "3_Q7Vr2JljKx"
      },
      "execution_count": null,
      "outputs": []
    },
    {
      "cell_type": "code",
      "source": [
        "#to see the assigned values\n",
        "X_train.shape, X_val.shape, y_train.shape, y_val.shape"
      ],
      "metadata": {
        "colab": {
          "base_uri": "https://localhost:8080/"
        },
        "id": "-tVpWj2pnqRs",
        "outputId": "5f64eb22-f410-4bf2-c2ae-a4f9670b6ea4"
      },
      "execution_count": null,
      "outputs": [
        {
          "output_type": "execute_result",
          "data": {
            "text/plain": [
              "((40000, 32, 32, 3), (10000, 32, 32, 3), (40000, 10), (10000, 10))"
            ]
          },
          "metadata": {},
          "execution_count": 14
        }
      ]
    },
    {
      "cell_type": "code",
      "source": [
        "batch_size = 64\n",
        "epochs = 20\n",
        "num_cat = 10"
      ],
      "metadata": {
        "id": "zT5TzTdzoKeA"
      },
      "execution_count": null,
      "outputs": []
    },
    {
      "cell_type": "code",
      "source": [
        "#Builing a 3 layer Convolutional Neural Network\n",
        "cifar_model = Sequential()\n",
        "cifar_model.add(Conv2D(32, kernel_size=(3,3), strides=(1,1), input_shape=(32, 32, 3), activation='relu'))\n",
        "cifar_model.add(MaxPooling2D(2,2))\n",
        "cifar_model.add(Conv2D(64, kernel_size=(3,3), strides=(1,1), activation='relu'))\n",
        "cifar_model.add(MaxPooling2D(2,2))\n",
        "cifar_model.add(Conv2D(128, kernel_size=(3,3), strides=(1,1), activation='relu'))\n",
        "cifar_model.add(MaxPooling2D(2,2))\n",
        "cifar_model.add(keras.layers.Flatten())\n",
        "cifar_model.add(keras.layers.Dense(512, activation=\"relu\"))\n",
        "cifar_model.add(keras.layers.Dense(num_cat, activation=\"Softmax\"))"
      ],
      "metadata": {
        "id": "VH2XPNtO0Bnf"
      },
      "execution_count": null,
      "outputs": []
    },
    {
      "cell_type": "code",
      "source": [
        "#\n",
        "cifar_model.compile(loss=\"categorical_crossentropy\",\n",
        "                    optimizer = \"Adam\",\n",
        "                    metrics = ['accuracy'])"
      ],
      "metadata": {
        "id": "1AQonLUhSL2s"
      },
      "execution_count": null,
      "outputs": []
    },
    {
      "cell_type": "code",
      "source": [
        "cifar_model.summary()"
      ],
      "metadata": {
        "colab": {
          "base_uri": "https://localhost:8080/"
        },
        "id": "YzQLgnkWVRWP",
        "outputId": "ba1c081a-d9f9-457b-c66d-9621cf30c41f"
      },
      "execution_count": null,
      "outputs": [
        {
          "output_type": "stream",
          "name": "stdout",
          "text": [
            "Model: \"sequential\"\n",
            "_________________________________________________________________\n",
            "Layer (type)                 Output Shape              Param #   \n",
            "=================================================================\n",
            "conv2d (Conv2D)              (None, 30, 30, 32)        896       \n",
            "_________________________________________________________________\n",
            "max_pooling2d (MaxPooling2D) (None, 15, 15, 32)        0         \n",
            "_________________________________________________________________\n",
            "conv2d_1 (Conv2D)            (None, 13, 13, 64)        18496     \n",
            "_________________________________________________________________\n",
            "max_pooling2d_1 (MaxPooling2 (None, 6, 6, 64)          0         \n",
            "_________________________________________________________________\n",
            "conv2d_2 (Conv2D)            (None, 4, 4, 128)         73856     \n",
            "_________________________________________________________________\n",
            "max_pooling2d_2 (MaxPooling2 (None, 2, 2, 128)         0         \n",
            "_________________________________________________________________\n",
            "module_wrapper (ModuleWrappe (None, 512)               0         \n",
            "_________________________________________________________________\n",
            "module_wrapper_1 (ModuleWrap (None, 512)               262656    \n",
            "_________________________________________________________________\n",
            "module_wrapper_2 (ModuleWrap (None, 10)                5130      \n",
            "=================================================================\n",
            "Total params: 361,034\n",
            "Trainable params: 361,034\n",
            "Non-trainable params: 0\n",
            "_________________________________________________________________\n"
          ]
        }
      ]
    },
    {
      "cell_type": "code",
      "source": [
        "#Training the model\n",
        "cifar_model_hist = cifar_model.fit(X_train, y_train, batch_size=batch_size,\n",
        "                              epochs=epochs, verbose=1, validation_data=(X_val, y_val))"
      ],
      "metadata": {
        "colab": {
          "base_uri": "https://localhost:8080/"
        },
        "id": "nFvNc3V-TqG9",
        "outputId": "589df293-5794-4701-b9f4-e8a52fe69f92"
      },
      "execution_count": null,
      "outputs": [
        {
          "output_type": "stream",
          "name": "stdout",
          "text": [
            "Epoch 1/20\n",
            "625/625 [==============================] - 69s 109ms/step - loss: 1.5627 - accuracy: 0.4275 - val_loss: 1.2837 - val_accuracy: 0.5394\n",
            "Epoch 2/20\n",
            "625/625 [==============================] - 67s 108ms/step - loss: 1.1958 - accuracy: 0.5760 - val_loss: 1.0916 - val_accuracy: 0.6119\n",
            "Epoch 3/20\n",
            "625/625 [==============================] - 69s 110ms/step - loss: 1.0212 - accuracy: 0.6389 - val_loss: 0.9932 - val_accuracy: 0.6491\n",
            "Epoch 4/20\n",
            "625/625 [==============================] - 67s 108ms/step - loss: 0.9119 - accuracy: 0.6782 - val_loss: 0.9321 - val_accuracy: 0.6738\n",
            "Epoch 5/20\n",
            "625/625 [==============================] - 68s 109ms/step - loss: 0.8129 - accuracy: 0.7149 - val_loss: 0.9248 - val_accuracy: 0.6794\n",
            "Epoch 6/20\n",
            "625/625 [==============================] - 67s 108ms/step - loss: 0.7349 - accuracy: 0.7411 - val_loss: 0.8946 - val_accuracy: 0.6903\n",
            "Epoch 7/20\n",
            "625/625 [==============================] - 68s 109ms/step - loss: 0.6631 - accuracy: 0.7673 - val_loss: 0.8251 - val_accuracy: 0.7140\n",
            "Epoch 8/20\n",
            "625/625 [==============================] - 67s 107ms/step - loss: 0.5923 - accuracy: 0.7935 - val_loss: 0.8457 - val_accuracy: 0.7108\n",
            "Epoch 9/20\n",
            "625/625 [==============================] - 68s 109ms/step - loss: 0.5291 - accuracy: 0.8149 - val_loss: 0.8590 - val_accuracy: 0.7129\n",
            "Epoch 10/20\n",
            "625/625 [==============================] - 68s 109ms/step - loss: 0.4617 - accuracy: 0.8383 - val_loss: 0.9054 - val_accuracy: 0.7091\n",
            "Epoch 11/20\n",
            "625/625 [==============================] - 68s 109ms/step - loss: 0.4027 - accuracy: 0.8580 - val_loss: 0.9378 - val_accuracy: 0.7156\n",
            "Epoch 12/20\n",
            "625/625 [==============================] - 68s 108ms/step - loss: 0.3467 - accuracy: 0.8785 - val_loss: 0.9642 - val_accuracy: 0.7107\n",
            "Epoch 13/20\n",
            "625/625 [==============================] - 67s 108ms/step - loss: 0.2970 - accuracy: 0.8958 - val_loss: 1.0324 - val_accuracy: 0.7188\n",
            "Epoch 14/20\n",
            "625/625 [==============================] - 69s 110ms/step - loss: 0.2567 - accuracy: 0.9092 - val_loss: 1.0868 - val_accuracy: 0.7161\n",
            "Epoch 15/20\n",
            "625/625 [==============================] - 67s 107ms/step - loss: 0.2193 - accuracy: 0.9232 - val_loss: 1.1721 - val_accuracy: 0.7118\n",
            "Epoch 16/20\n",
            "625/625 [==============================] - 67s 107ms/step - loss: 0.1858 - accuracy: 0.9359 - val_loss: 1.2375 - val_accuracy: 0.7250\n",
            "Epoch 17/20\n",
            "625/625 [==============================] - 67s 107ms/step - loss: 0.1574 - accuracy: 0.9435 - val_loss: 1.3584 - val_accuracy: 0.7055\n",
            "Epoch 18/20\n",
            "625/625 [==============================] - 68s 109ms/step - loss: 0.1420 - accuracy: 0.9505 - val_loss: 1.3506 - val_accuracy: 0.7168\n",
            "Epoch 19/20\n",
            "625/625 [==============================] - 68s 108ms/step - loss: 0.1263 - accuracy: 0.9573 - val_loss: 1.4220 - val_accuracy: 0.7155\n",
            "Epoch 20/20\n",
            "625/625 [==============================] - 67s 108ms/step - loss: 0.1111 - accuracy: 0.9617 - val_loss: 1.5253 - val_accuracy: 0.7117\n"
          ]
        }
      ]
    },
    {
      "cell_type": "code",
      "source": [
        "cifar_model_hist.history"
      ],
      "metadata": {
        "colab": {
          "base_uri": "https://localhost:8080/"
        },
        "id": "46NcQb-N_qkV",
        "outputId": "2e4e1770-d871-4f1b-d421-b258bbf7b695"
      },
      "execution_count": null,
      "outputs": [
        {
          "output_type": "execute_result",
          "data": {
            "text/plain": [
              "{'loss': [1.562675952911377,\n",
              "  1.1957696676254272,\n",
              "  1.0212112665176392,\n",
              "  0.9119345545768738,\n",
              "  0.812935471534729,\n",
              "  0.7349283695220947,\n",
              "  0.663073718547821,\n",
              "  0.5923012495040894,\n",
              "  0.5291378498077393,\n",
              "  0.46169188618659973,\n",
              "  0.40271538496017456,\n",
              "  0.34673190116882324,\n",
              "  0.29695364832878113,\n",
              "  0.2567219138145447,\n",
              "  0.219261035323143,\n",
              "  0.18577615916728973,\n",
              "  0.15739883482456207,\n",
              "  0.14199574291706085,\n",
              "  0.1263023316860199,\n",
              "  0.11113893985748291],\n",
              " 'accuracy': [0.42754998803138733,\n",
              "  0.5759750008583069,\n",
              "  0.638949990272522,\n",
              "  0.6782000064849854,\n",
              "  0.714900016784668,\n",
              "  0.741100013256073,\n",
              "  0.7672500014305115,\n",
              "  0.7934749722480774,\n",
              "  0.8148999810218811,\n",
              "  0.8382999897003174,\n",
              "  0.8579750061035156,\n",
              "  0.8785499930381775,\n",
              "  0.8958250284194946,\n",
              "  0.9091500043869019,\n",
              "  0.9231749773025513,\n",
              "  0.9358749985694885,\n",
              "  0.9435250163078308,\n",
              "  0.9505000114440918,\n",
              "  0.9573000073432922,\n",
              "  0.9617249965667725],\n",
              " 'val_loss': [1.2836668491363525,\n",
              "  1.0916091203689575,\n",
              "  0.9932034015655518,\n",
              "  0.9320871829986572,\n",
              "  0.9247840642929077,\n",
              "  0.8945788145065308,\n",
              "  0.8251020312309265,\n",
              "  0.8457080125808716,\n",
              "  0.8589616417884827,\n",
              "  0.9054161310195923,\n",
              "  0.937814474105835,\n",
              "  0.9642459750175476,\n",
              "  1.032405972480774,\n",
              "  1.0867613554000854,\n",
              "  1.1721069812774658,\n",
              "  1.2374738454818726,\n",
              "  1.358359456062317,\n",
              "  1.350555658340454,\n",
              "  1.4220423698425293,\n",
              "  1.5253204107284546],\n",
              " 'val_accuracy': [0.5393999814987183,\n",
              "  0.6118999719619751,\n",
              "  0.6491000056266785,\n",
              "  0.673799991607666,\n",
              "  0.6794000267982483,\n",
              "  0.6902999877929688,\n",
              "  0.7139999866485596,\n",
              "  0.7107999920845032,\n",
              "  0.7128999829292297,\n",
              "  0.7091000080108643,\n",
              "  0.7156000137329102,\n",
              "  0.7106999754905701,\n",
              "  0.7188000082969666,\n",
              "  0.7160999774932861,\n",
              "  0.7117999792098999,\n",
              "  0.7250000238418579,\n",
              "  0.7055000066757202,\n",
              "  0.7167999744415283,\n",
              "  0.715499997138977,\n",
              "  0.7117000222206116]}"
            ]
          },
          "metadata": {},
          "execution_count": 23
        }
      ]
    },
    {
      "cell_type": "code",
      "source": [
        "pd.DataFrame(cifar_model_hist.history).plot(figsize=(10, 5))\n",
        "plt.grid(True)\n",
        "plt.gca().set_ylim(0, 5)\n",
        "plt.show()"
      ],
      "metadata": {
        "colab": {
          "base_uri": "https://localhost:8080/",
          "height": 324
        },
        "id": "Ok3qVjBh__4k",
        "outputId": "e24442f8-90d8-4c2a-9da6-6a505bbce6fc"
      },
      "execution_count": null,
      "outputs": [
        {
          "output_type": "display_data",
          "data": {
            "text/plain": [
              "<Figure size 720x360 with 1 Axes>"
            ],
            "image/png": "[encoded data removed]"
          },
          "metadata": {
            "needs_background": "light"
          }
        }
      ]
    },
    {
      "cell_type": "code",
      "source": [
        "#evaluate the model\n",
        "cifar_model_eval = cifar_model.evaluate(X_test_norm, y_test_1hot, verbose=0)"
      ],
      "metadata": {
        "id": "Lm9dzbskANKV"
      },
      "execution_count": null,
      "outputs": []
    },
    {
      "cell_type": "code",
      "source": [
        "#print results\n",
        "print('Test loss: ', cifar_model_eval[0])\n",
        "print('Test accuracy: ', cifar_model_eval[1])"
      ],
      "metadata": {
        "colab": {
          "base_uri": "https://localhost:8080/"
        },
        "id": "V_1b6cuTA6Ju",
        "outputId": "5dc8f8d0-9219-43f9-8c79-6704f3709333"
      },
      "execution_count": null,
      "outputs": [
        {
          "output_type": "stream",
          "name": "stdout",
          "text": [
            "Test loss:  1.6065211296081543\n",
            "Test accuracy:  0.7074999809265137\n"
          ]
        }
      ]
    },
    {
      "cell_type": "code",
      "source": [
        "#create new test data\n",
        "x_new = X_test_norm[:4]"
      ],
      "metadata": {
        "id": "R4uXSpKEBPdt"
      },
      "execution_count": null,
      "outputs": []
    },
    {
      "cell_type": "code",
      "source": [
        "#Make predictions based on new data\n",
        "y_proba = cifar_model.predict(x_new)\n",
        "y_proba.round(2)"
      ],
      "metadata": {
        "colab": {
          "base_uri": "https://localhost:8080/"
        },
        "id": "PANRKIBpBgR4",
        "outputId": "70e7b506-39f7-4018-fd30-b98d59c5d4dc"
      },
      "execution_count": null,
      "outputs": [
        {
          "output_type": "execute_result",
          "data": {
            "text/plain": [
              "array([[0.  , 0.  , 0.  , 0.74, 0.  , 0.26, 0.  , 0.  , 0.  , 0.  ],\n",
              "       [0.  , 0.01, 0.  , 0.  , 0.  , 0.  , 0.  , 0.  , 0.99, 0.  ],\n",
              "       [0.  , 0.  , 0.  , 0.  , 0.  , 0.  , 0.  , 0.  , 1.  , 0.  ],\n",
              "       [1.  , 0.  , 0.  , 0.  , 0.  , 0.  , 0.  , 0.  , 0.  , 0.  ]],\n",
              "      dtype=float32)"
            ]
          },
          "metadata": {},
          "execution_count": 33
        }
      ]
    },
    {
      "cell_type": "code",
      "source": [
        "y_pred = np.argmax(cifar_model.predict(x_new), axis=-1)\n",
        "y_pred"
      ],
      "metadata": {
        "colab": {
          "base_uri": "https://localhost:8080/"
        },
        "id": "IRyQ0d7oBpfo",
        "outputId": "ecc4b38d-db7d-4702-f6ff-c75499803c04"
      },
      "execution_count": null,
      "outputs": [
        {
          "output_type": "execute_result",
          "data": {
            "text/plain": [
              "array([3, 8, 8, 0])"
            ]
          },
          "metadata": {},
          "execution_count": 34
        }
      ]
    },
    {
      "cell_type": "code",
      "source": [
        "np.array(data_cat)[y_pred]"
      ],
      "metadata": {
        "colab": {
          "base_uri": "https://localhost:8080/"
        },
        "id": "46IqCFtXB5gP",
        "outputId": "406f5f92-a8cd-458f-8e36-c6b222fd8fe5"
      },
      "execution_count": null,
      "outputs": [
        {
          "output_type": "execute_result",
          "data": {
            "text/plain": [
              "array(['Cat', 'Ship', 'Ship', 'Airplane'], dtype='<U10')"
            ]
          },
          "metadata": {},
          "execution_count": 35
        }
      ]
    },
    {
      "cell_type": "code",
      "source": [
        "print(plt.imshow(X_test[3]))"
      ],
      "metadata": {
        "colab": {
          "base_uri": "https://localhost:8080/",
          "height": 283
        },
        "id": "jaKlYOyeCJqy",
        "outputId": "04991d1b-49bb-4d49-c638-8f61800ea8d5"
      },
      "execution_count": null,
      "outputs": [
        {
          "output_type": "stream",
          "name": "stdout",
          "text": [
            "AxesImage(54,36;334.8x217.44)\n"
          ]
        },
        {
          "output_type": "display_data",
          "data": {
            "text/plain": [
              "<Figure size 432x288 with 1 Axes>"
            ],
            "image/png": "[encoded data removed]"
          },
          "metadata": {
            "needs_background": "light"
          }
        }
      ]
    }
  ]
}